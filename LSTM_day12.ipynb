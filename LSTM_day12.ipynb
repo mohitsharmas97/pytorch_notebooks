{
  "nbformat": 4,
  "nbformat_minor": 0,
  "metadata": {
    "colab": {
      "provenance": [],
      "gpuType": "T4",
      "authorship_tag": "ABX9TyOYufx77gzkCr6ywbfZ7p6r",
      "include_colab_link": true
    },
    "kernelspec": {
      "name": "python3",
      "display_name": "Python 3"
    },
    "language_info": {
      "name": "python"
    },
    "accelerator": "GPU"
  },
  "cells": [
    {
      "cell_type": "markdown",
      "metadata": {
        "id": "view-in-github",
        "colab_type": "text"
      },
      "source": [
        "<a href=\"https://colab.research.google.com/github/mohitsharmas97/pytorch_notebooks/blob/main/LSTM_day12.ipynb\" target=\"_parent\"><img src=\"https://colab.research.google.com/assets/colab-badge.svg\" alt=\"Open In Colab\"/></a>"
      ]
    },
    {
      "cell_type": "code",
      "execution_count": null,
      "metadata": {
        "colab": {
          "base_uri": "https://localhost:8080/"
        },
        "id": "mnEEk4nti4kw",
        "outputId": "5e6a0514-7333-4de5-f32e-b4dda8f2deb9"
      },
      "outputs": [
        {
          "output_type": "stream",
          "name": "stdout",
          "text": [
            "Requirement already satisfied: nltk in /usr/local/lib/python3.12/dist-packages (3.9.1)\n",
            "Requirement already satisfied: click in /usr/local/lib/python3.12/dist-packages (from nltk) (8.2.1)\n",
            "Requirement already satisfied: joblib in /usr/local/lib/python3.12/dist-packages (from nltk) (1.5.1)\n",
            "Requirement already satisfied: regex>=2021.8.3 in /usr/local/lib/python3.12/dist-packages (from nltk) (2024.11.6)\n",
            "Requirement already satisfied: tqdm in /usr/local/lib/python3.12/dist-packages (from nltk) (4.67.1)\n"
          ]
        }
      ],
      "source": [
        "!pip install nltk #natural language toolkit"
      ]
    },
    {
      "cell_type": "code",
      "source": [
        "import torch\n",
        "import torch.nn as nn\n",
        "import torch.optim as optim\n",
        "import numpy as np\n",
        "from collections import Counter\n",
        "from torch.utils.data import Dataset,DataLoader\n",
        "from nltk.tokenize import word_tokenize\n",
        "import nltk"
      ],
      "metadata": {
        "id": "V11QNEndjEX5"
      },
      "execution_count": null,
      "outputs": []
    },
    {
      "cell_type": "code",
      "source": [
        "document=\"\"\"About Data Science Mentorship Program\n",
        "What is the course fee for  Data Science Mentorship Program (DSMP 2.0)\n",
        "The total course fee for the DSMP course is Rs 10,600. This includes the fee for both DSMP 1.0 and DSMP 2.0\n",
        "What is the total duration of the course?\n",
        "The total duration of the course is about 6-8 months.\n",
        "Are Deep Learning and NLP a part of the DSMP 2.0  course?\n",
        "No, NLP and Deep Learning both are not a part of this program’s curriculum.\n",
        "What if I miss a live session? Will I get a recording of the session?\n",
        "Yes, all our sessions are recorded, so even if you miss a session you can login into our portal and watch the recording as per your convenience.\n",
        "Where can I find the class schedule?\n",
        "You will find the class schedule in your course dashboard once you enroll for the course.\n",
        "\"\"\""
      ],
      "metadata": {
        "id": "4itEUZV6jbEN"
      },
      "execution_count": null,
      "outputs": []
    },
    {
      "cell_type": "code",
      "source": [
        "#tokenization\n",
        "nltk.download('punkt')\n",
        "nltk.download('punkt_tab')"
      ],
      "metadata": {
        "colab": {
          "base_uri": "https://localhost:8080/"
        },
        "id": "vxfLXPYskIDB",
        "outputId": "4724409d-9cd7-4407-8a68-55b73706cefa"
      },
      "execution_count": null,
      "outputs": [
        {
          "output_type": "stream",
          "name": "stderr",
          "text": [
            "[nltk_data] Downloading package punkt to /root/nltk_data...\n",
            "[nltk_data]   Unzipping tokenizers/punkt.zip.\n",
            "[nltk_data] Downloading package punkt_tab to /root/nltk_data...\n",
            "[nltk_data]   Unzipping tokenizers/punkt_tab.zip.\n"
          ]
        },
        {
          "output_type": "execute_result",
          "data": {
            "text/plain": [
              "True"
            ]
          },
          "metadata": {},
          "execution_count": 4
        }
      ]
    },
    {
      "cell_type": "code",
      "source": [
        "#tokenize\n",
        "tokens=word_tokenize(document.lower())"
      ],
      "metadata": {
        "id": "WkTg-YrykQTD"
      },
      "execution_count": null,
      "outputs": []
    },
    {
      "cell_type": "code",
      "source": [
        "#build vocab\n",
        "vocab={'<unk>':0}\n",
        "\n",
        "for token in Counter(tokens).keys():\n",
        "  if token not in vocab:\n",
        "    vocab[token]=len(vocab)\n",
        "\n",
        "vocab\n"
      ],
      "metadata": {
        "colab": {
          "base_uri": "https://localhost:8080/"
        },
        "id": "Xa8uvvbXw4Fz",
        "outputId": "430ac3f9-1701-44e3-9f0f-b4b14864f045"
      },
      "execution_count": null,
      "outputs": [
        {
          "output_type": "execute_result",
          "data": {
            "text/plain": [
              "{'<unk>': 0,\n",
              " 'about': 1,\n",
              " 'data': 2,\n",
              " 'science': 3,\n",
              " 'mentorship': 4,\n",
              " 'program': 5,\n",
              " 'what': 6,\n",
              " 'is': 7,\n",
              " 'the': 8,\n",
              " 'course': 9,\n",
              " 'fee': 10,\n",
              " 'for': 11,\n",
              " '(': 12,\n",
              " 'dsmp': 13,\n",
              " '2.0': 14,\n",
              " ')': 15,\n",
              " 'total': 16,\n",
              " 'rs': 17,\n",
              " '10,600.': 18,\n",
              " 'this': 19,\n",
              " 'includes': 20,\n",
              " 'both': 21,\n",
              " '1.0': 22,\n",
              " 'and': 23,\n",
              " 'duration': 24,\n",
              " 'of': 25,\n",
              " '?': 26,\n",
              " '6-8': 27,\n",
              " 'months': 28,\n",
              " '.': 29,\n",
              " 'are': 30,\n",
              " 'deep': 31,\n",
              " 'learning': 32,\n",
              " 'nlp': 33,\n",
              " 'a': 34,\n",
              " 'part': 35,\n",
              " 'no': 36,\n",
              " ',': 37,\n",
              " 'not': 38,\n",
              " '’': 39,\n",
              " 's': 40,\n",
              " 'curriculum': 41,\n",
              " 'if': 42,\n",
              " 'i': 43,\n",
              " 'miss': 44,\n",
              " 'live': 45,\n",
              " 'session': 46,\n",
              " 'will': 47,\n",
              " 'get': 48,\n",
              " 'recording': 49,\n",
              " 'yes': 50,\n",
              " 'all': 51,\n",
              " 'our': 52,\n",
              " 'sessions': 53,\n",
              " 'recorded': 54,\n",
              " 'so': 55,\n",
              " 'even': 56,\n",
              " 'you': 57,\n",
              " 'can': 58,\n",
              " 'login': 59,\n",
              " 'into': 60,\n",
              " 'portal': 61,\n",
              " 'watch': 62,\n",
              " 'as': 63,\n",
              " 'per': 64,\n",
              " 'your': 65,\n",
              " 'convenience': 66,\n",
              " 'where': 67,\n",
              " 'find': 68,\n",
              " 'class': 69,\n",
              " 'schedule': 70,\n",
              " 'in': 71,\n",
              " 'dashboard': 72,\n",
              " 'once': 73,\n",
              " 'enroll': 74}"
            ]
          },
          "metadata": {},
          "execution_count": 39
        }
      ]
    },
    {
      "cell_type": "code",
      "source": [
        "len(vocab)"
      ],
      "metadata": {
        "colab": {
          "base_uri": "https://localhost:8080/"
        },
        "id": "8CP7vqxvw5YG",
        "outputId": "ffbc79db-0d6e-4eef-ae16-978d0774bfa5"
      },
      "execution_count": null,
      "outputs": [
        {
          "output_type": "execute_result",
          "data": {
            "text/plain": [
              "75"
            ]
          },
          "metadata": {},
          "execution_count": 40
        }
      ]
    },
    {
      "cell_type": "code",
      "source": [
        "#extract sentences from data\n",
        "input_sentences=[]\n",
        "\n",
        "for sentence in document.split(\"\\n\"):\n",
        "  input_sentences"
      ],
      "metadata": {
        "id": "JSgFNexVkfBp"
      },
      "execution_count": null,
      "outputs": []
    },
    {
      "cell_type": "code",
      "source": [
        "input_sentences=document.split(\"\\n\")"
      ],
      "metadata": {
        "id": "JUfpAGCjmB8s"
      },
      "execution_count": null,
      "outputs": []
    },
    {
      "cell_type": "code",
      "source": [
        "def text_to_indices(sentence,vocab):\n",
        "  numerical_sentence=[]\n",
        "  for token in sentence:\n",
        "    if token in vocab:\n",
        "      numerical_sentence.append(vocab[token])\n",
        "    else:\n",
        "      numerical_sentence.append(vocab['<unk>'])\n",
        "  return numerical_sentence\n"
      ],
      "metadata": {
        "id": "7TSsks9Um60n"
      },
      "execution_count": null,
      "outputs": []
    },
    {
      "cell_type": "code",
      "source": [
        "input_numerical_sentences=[]\n",
        "for sentence in input_sentences:\n",
        "  input_numerical_sentences.append(text_to_indices(word_tokenize(sentence.lower()),vocab))\n",
        "\n"
      ],
      "metadata": {
        "id": "Ku4g1sU4mgzW"
      },
      "execution_count": null,
      "outputs": []
    },
    {
      "cell_type": "code",
      "source": [
        "len(input_numerical_sentences)"
      ],
      "metadata": {
        "colab": {
          "base_uri": "https://localhost:8080/"
        },
        "id": "Tpa6metLml3c",
        "outputId": "368769d4-0759-44ad-ac45-b38fcbc0c8af"
      },
      "execution_count": null,
      "outputs": [
        {
          "output_type": "execute_result",
          "data": {
            "text/plain": [
              "12"
            ]
          },
          "metadata": {},
          "execution_count": 11
        }
      ]
    },
    {
      "cell_type": "code",
      "source": [
        "training_sequence=[]\n",
        "for sentence in input_numerical_sentences:\n",
        "\n",
        "  for i in range(1,len(sentence)):\n",
        "    training_sequence.append(sentence[:i+1])\n",
        "\n",
        "\n"
      ],
      "metadata": {
        "id": "f4a5YN4smjgA"
      },
      "execution_count": null,
      "outputs": []
    },
    {
      "cell_type": "code",
      "source": [
        "len(training_sequence)"
      ],
      "metadata": {
        "colab": {
          "base_uri": "https://localhost:8080/"
        },
        "id": "KRaWJARWpzWE",
        "outputId": "90667563-f9f0-4212-a1c0-0205e1fb82d1"
      },
      "execution_count": null,
      "outputs": [
        {
          "output_type": "execute_result",
          "data": {
            "text/plain": [
              "153"
            ]
          },
          "metadata": {},
          "execution_count": 13
        }
      ]
    },
    {
      "cell_type": "code",
      "source": [
        "training_sequence[:5]"
      ],
      "metadata": {
        "colab": {
          "base_uri": "https://localhost:8080/"
        },
        "id": "RwuAb_N1qOiE",
        "outputId": "40004346-a67e-4f39-e160-260d3db13772"
      },
      "execution_count": null,
      "outputs": [
        {
          "output_type": "execute_result",
          "data": {
            "text/plain": [
              "[[1, 2], [1, 2, 3], [1, 2, 3, 4], [1, 2, 3, 4, 5], [6, 7]]"
            ]
          },
          "metadata": {},
          "execution_count": 14
        }
      ]
    },
    {
      "cell_type": "code",
      "source": [
        "len_list=[]\n",
        "for sequence in training_sequence:\n",
        "  len_list.append(len(sequence))\n",
        "max(len_list)"
      ],
      "metadata": {
        "colab": {
          "base_uri": "https://localhost:8080/"
        },
        "id": "wF9EK3MpwbVz",
        "outputId": "60626907-f6ba-40b2-c8f4-330947606a9b"
      },
      "execution_count": null,
      "outputs": [
        {
          "output_type": "execute_result",
          "data": {
            "text/plain": [
              "30"
            ]
          },
          "metadata": {},
          "execution_count": 15
        }
      ]
    },
    {
      "cell_type": "code",
      "source": [
        "training_sequence[0]"
      ],
      "metadata": {
        "colab": {
          "base_uri": "https://localhost:8080/"
        },
        "id": "k-HGB2SowhBl",
        "outputId": "a2219784-644a-400a-c400-ced312d11473"
      },
      "execution_count": null,
      "outputs": [
        {
          "output_type": "execute_result",
          "data": {
            "text/plain": [
              "[1, 2]"
            ]
          },
          "metadata": {},
          "execution_count": 16
        }
      ]
    },
    {
      "cell_type": "code",
      "source": [
        "padded_training_sequence=[]\n",
        "for sequence in training_sequence:\n",
        "  padded_training_sequence.append([0]*(max(len_list)-len(sequence))+sequence)"
      ],
      "metadata": {
        "id": "4wbhBuFmwoFV"
      },
      "execution_count": null,
      "outputs": []
    },
    {
      "cell_type": "code",
      "source": [
        "len(padded_training_sequence[2])"
      ],
      "metadata": {
        "colab": {
          "base_uri": "https://localhost:8080/"
        },
        "id": "3flWyL3TxFCr",
        "outputId": "0bcaa85c-aa74-4e79-96be-f699edc427b7"
      },
      "execution_count": null,
      "outputs": [
        {
          "output_type": "execute_result",
          "data": {
            "text/plain": [
              "30"
            ]
          },
          "metadata": {},
          "execution_count": 18
        }
      ]
    },
    {
      "cell_type": "code",
      "source": [
        "padded_training_sequence=torch.tensor(padded_training_sequence,dtype=torch.long)"
      ],
      "metadata": {
        "id": "mrVZaL3mw5sl"
      },
      "execution_count": null,
      "outputs": []
    },
    {
      "cell_type": "code",
      "source": [
        "padded_training_sequence.shape"
      ],
      "metadata": {
        "colab": {
          "base_uri": "https://localhost:8080/"
        },
        "id": "pthrtCnkxM1_",
        "outputId": "729239b3-0317-49ee-8de8-6680753d476e"
      },
      "execution_count": null,
      "outputs": [
        {
          "output_type": "execute_result",
          "data": {
            "text/plain": [
              "torch.Size([153, 30])"
            ]
          },
          "metadata": {},
          "execution_count": 20
        }
      ]
    },
    {
      "cell_type": "code",
      "source": [
        "X=padded_training_sequence[:,:-1]\n",
        "y=padded_training_sequence[:,-1]\n"
      ],
      "metadata": {
        "id": "UTRA2euNxeRW"
      },
      "execution_count": null,
      "outputs": []
    },
    {
      "cell_type": "code",
      "source": [
        "class customDataset(Dataset):\n",
        "  def __init__(self,X,y):\n",
        "    self.X=X\n",
        "    self.y=y\n",
        "\n",
        "  def __len__(self):\n",
        "    return self.X.shape[0]\n",
        "\n",
        "  def __getitem__(self,idx):\n",
        "    return self.X[idx],self.y[idx]"
      ],
      "metadata": {
        "id": "szXvSsyyxqP2"
      },
      "execution_count": null,
      "outputs": []
    },
    {
      "cell_type": "code",
      "source": [
        "dataset=customDataset(X,y)"
      ],
      "metadata": {
        "id": "_DC0VvCjyOEh"
      },
      "execution_count": null,
      "outputs": []
    },
    {
      "cell_type": "code",
      "source": [
        "len(dataset)"
      ],
      "metadata": {
        "colab": {
          "base_uri": "https://localhost:8080/"
        },
        "id": "Q8rOG_kJya8y",
        "outputId": "f92b8720-b87b-4db8-ce08-5b2c65b6ecb3"
      },
      "execution_count": null,
      "outputs": [
        {
          "output_type": "execute_result",
          "data": {
            "text/plain": [
              "153"
            ]
          },
          "metadata": {},
          "execution_count": 31
        }
      ]
    },
    {
      "cell_type": "code",
      "source": [
        "dataloader=DataLoader(dataset,batch_size=32,shuffle=True)"
      ],
      "metadata": {
        "id": "cfOOphBkyf_r"
      },
      "execution_count": null,
      "outputs": []
    },
    {
      "cell_type": "code",
      "source": [
        "for input,output in dataloader:\n",
        "  print(input,output)"
      ],
      "metadata": {
        "id": "r-kHahHsykyO",
        "colab": {
          "base_uri": "https://localhost:8080/"
        },
        "outputId": "69c01814-62fb-4558-f802-d966d8510823"
      },
      "execution_count": null,
      "outputs": [
        {
          "output_type": "stream",
          "name": "stdout",
          "text": [
            "tensor([[ 0,  0,  0,  0,  0,  0,  0,  0,  0,  0,  0,  0,  0,  0,  0,  0,  0,  0,\n",
            "          0,  0,  0,  0,  0,  0,  0,  0, 50, 37, 51],\n",
            "        [ 0,  0,  0,  0,  0,  0,  0,  0,  0,  0,  0,  0,  0,  0,  0,  0,  0, 50,\n",
            "         37, 51, 52, 53, 30, 54, 37, 55, 56, 42, 57],\n",
            "        [ 0,  0,  0,  0,  0,  0,  0,  0,  0,  0,  0,  0,  0,  0,  0,  0,  0,  0,\n",
            "         50, 37, 51, 52, 53, 30, 54, 37, 55, 56, 42],\n",
            "        [ 0,  0,  0,  0,  0,  0,  0,  0,  0,  0,  8, 16,  9, 10, 11,  8, 13,  9,\n",
            "          7, 17, 18, 19, 20,  8, 10, 11, 21, 13, 22],\n",
            "        [ 0,  0,  0,  0,  0,  0,  0,  0,  0,  0,  0,  0,  0,  0, 36, 37, 33, 23,\n",
            "         31, 32, 21, 30, 38, 34, 35, 25, 19,  5, 39],\n",
            "        [ 0,  0,  0,  0,  0,  0,  0,  0,  0,  0,  0,  0,  0,  0,  0, 57, 47, 68,\n",
            "          8, 69, 70, 71, 65,  9, 72, 73, 57, 74, 11],\n",
            "        [ 0,  0,  0,  0,  0,  0,  0,  0,  0,  0,  0,  0,  0,  0,  0,  0, 36, 37,\n",
            "         33, 23, 31, 32, 21, 30, 38, 34, 35, 25, 19],\n",
            "        [ 0,  0,  0,  0,  0,  0,  0,  0,  0,  0,  0,  0,  0,  0,  0,  0,  0,  0,\n",
            "          0, 30, 31, 32, 23, 33, 34, 35, 25,  8, 13],\n",
            "        [ 0,  0,  0,  0,  0,  0,  0,  0,  0,  0,  0,  0,  0,  0,  0,  0,  0,  0,\n",
            "          0,  0,  0,  0,  0,  0,  0,  0,  0,  0,  6],\n",
            "        [ 0,  0,  0,  0,  0,  0,  0,  0,  0,  0,  0,  0,  0,  0,  0,  0,  0,  0,\n",
            "          0,  0,  6,  7,  8,  9, 10, 11,  2,  3,  4],\n",
            "        [ 0,  0,  0,  0,  0, 50, 37, 51, 52, 53, 30, 54, 37, 55, 56, 42, 57, 44,\n",
            "         34, 46, 57, 58, 59, 60, 52, 61, 23, 62,  8],\n",
            "        [ 0,  0,  0,  0,  0,  0,  0,  0,  0,  0,  0,  0,  0,  0,  0,  0,  0,  0,\n",
            "          0,  0, 50, 37, 51, 52, 53, 30, 54, 37, 55],\n",
            "        [ 0,  0,  0,  0,  0,  0,  0,  0,  0,  0,  0,  0,  0,  0,  0,  0,  0,  0,\n",
            "          0,  8, 16,  9, 10, 11,  8, 13,  9,  7, 17],\n",
            "        [ 0,  0,  0,  0,  0,  0,  0,  0,  0,  0,  0,  0,  0,  0,  0,  0,  0,  0,\n",
            "          0,  0,  0,  0,  0,  0,  0,  0,  6, 42, 43],\n",
            "        [ 0,  0,  0,  0,  0,  0,  0,  0,  0,  0,  0,  0,  0,  0,  0, 36, 37, 33,\n",
            "         23, 31, 32, 21, 30, 38, 34, 35, 25, 19,  5],\n",
            "        [ 0,  0,  0,  0,  0,  0,  0,  0,  0,  0,  0,  0,  0,  0,  0,  0,  0,  0,\n",
            "          0,  0,  0,  0,  0,  0,  0, 36, 37, 33, 23],\n",
            "        [ 0,  0,  0,  0,  0,  0,  0,  0,  0,  0,  0,  0,  0,  0,  0,  0,  0,  0,\n",
            "          0,  0,  0,  0,  0,  0,  8, 16, 24, 25,  8],\n",
            "        [ 0,  0,  0,  0,  0,  0,  0,  0,  0,  0,  0,  0,  0,  0,  0,  0,  0,  0,\n",
            "          0,  0,  0,  0,  0,  0,  0,  0,  0, 50, 37],\n",
            "        [ 0,  0,  0,  0,  0,  0,  0,  0,  0,  0,  0,  0,  0,  0,  0,  0,  0,  0,\n",
            "          0,  0,  0,  0,  0,  0,  0,  0,  0,  0,  1],\n",
            "        [ 0,  0,  0,  0,  0,  0,  0,  0,  0,  0,  0,  0,  0,  0,  0,  0,  0,  0,\n",
            "          0,  0,  0,  0,  0,  6,  7,  8, 16, 24, 25],\n",
            "        [ 0,  0,  0,  0,  0,  0,  0,  0,  0,  0,  0,  0,  0,  0,  0,  0,  0,  0,\n",
            "          0,  0,  0,  0,  0,  0,  0,  0,  0,  0,  8],\n",
            "        [ 0,  0,  0,  0,  0,  0,  0,  0,  0,  0,  0,  0,  0,  0,  0,  0,  0,  0,\n",
            "          0,  6,  7,  8,  9, 10, 11,  2,  3,  4,  5],\n",
            "        [50, 37, 51, 52, 53, 30, 54, 37, 55, 56, 42, 57, 44, 34, 46, 57, 58, 59,\n",
            "         60, 52, 61, 23, 62,  8, 49, 63, 64, 65, 66],\n",
            "        [ 0,  0,  0,  0,  0,  0,  0,  0,  0,  0,  0,  0,  0,  0,  0,  0,  0,  0,\n",
            "          0,  0,  0,  0,  0,  0,  0,  0,  0, 36, 37],\n",
            "        [ 0,  0,  0,  0,  0,  0,  0,  0,  0,  0,  0,  0,  0,  0,  0,  0,  0,  0,\n",
            "          0,  0,  0,  0,  0,  0,  0,  0,  0, 30, 31],\n",
            "        [ 0,  0,  0,  0,  0,  0,  0,  0,  0,  0, 50, 37, 51, 52, 53, 30, 54, 37,\n",
            "         55, 56, 42, 57, 44, 34, 46, 57, 58, 59, 60],\n",
            "        [ 0,  0,  0,  0,  0,  0,  0,  0,  0,  0,  0,  0,  0,  0,  0,  0,  0,  0,\n",
            "          0,  0,  0,  0,  0,  0,  6,  7,  8, 16, 24],\n",
            "        [ 0,  0,  0,  0,  0,  0,  0,  0,  0,  0,  0,  0,  0,  0,  0,  0,  0, 36,\n",
            "         37, 33, 23, 31, 32, 21, 30, 38, 34, 35, 25],\n",
            "        [ 0,  0,  0,  0,  0,  0,  0,  0,  0,  0,  0,  0,  0,  0,  0,  0,  0,  0,\n",
            "         30, 31, 32, 23, 33, 34, 35, 25,  8, 13, 14],\n",
            "        [ 0,  0,  0,  0,  0,  0,  0,  0,  8, 16,  9, 10, 11,  8, 13,  9,  7, 17,\n",
            "         18, 19, 20,  8, 10, 11, 21, 13, 22, 23, 13],\n",
            "        [ 0,  0,  0,  0,  0,  0,  0,  0,  0,  0,  0,  0,  0,  0,  0,  0,  0,  0,\n",
            "          0,  0,  0,  0,  0, 30, 31, 32, 23, 33, 34],\n",
            "        [ 0,  0,  0,  0,  0,  0,  0,  0,  0,  0,  0,  0,  0,  0,  0,  0,  0,  0,\n",
            "          0,  0,  0,  0,  0, 57, 47, 68,  8, 69, 70]]) tensor([52, 44, 57, 23, 40,  8,  5, 14,  7,  5, 49, 56, 18, 44, 39, 31,  9, 51,\n",
            "         2,  8, 16, 12, 29, 33, 32, 52, 25, 19,  9, 14, 35, 71])\n",
            "tensor([[ 0,  0,  0,  0,  0,  0,  0,  0,  0,  0,  0,  0,  0,  0,  0,  0,  0,  0,\n",
            "          0,  0,  0,  0,  0,  0,  0,  0,  0,  6,  7],\n",
            "        [ 0,  0,  0,  0,  0,  0,  0,  0,  0,  0,  0,  0,  0,  0,  0,  0,  0,  0,\n",
            "          0,  0,  0,  0,  0,  0,  0, 30, 31, 32, 23],\n",
            "        [ 0,  0,  0,  0,  0,  0,  0,  0,  0,  0,  0,  0,  0,  0,  0,  0,  0,  0,\n",
            "          0,  0,  0,  0,  0,  0,  0,  0,  0, 67, 58],\n",
            "        [ 0,  0,  0,  0,  0,  0,  0,  0,  0,  0,  0,  0,  0,  0,  0,  0,  0,  0,\n",
            "          0,  0,  0,  0,  0,  0,  0,  0,  8, 16, 24],\n",
            "        [ 0,  0,  0,  0,  0,  0,  0,  0,  0,  0,  0,  0,  0,  0,  0,  0,  0,  0,\n",
            "          0,  0,  0,  0,  0,  0, 50, 37, 51, 52, 53],\n",
            "        [ 0,  0,  0,  0,  0,  0,  0,  0,  0,  0,  0,  0,  0,  0,  0,  0,  0,  0,\n",
            "          0,  0,  0,  0, 30, 31, 32, 23, 33, 34, 35],\n",
            "        [ 0,  0,  0,  0,  0,  0,  0,  0,  0,  0,  0,  0,  0,  0,  0,  0,  0,  0,\n",
            "          0,  0,  0,  0,  0,  0,  0,  0,  0,  0, 57],\n",
            "        [ 0,  0,  0,  0,  0,  0,  0,  0,  0,  0,  0,  0,  0,  0,  0,  0,  0,  0,\n",
            "         57, 47, 68,  8, 69, 70, 71, 65,  9, 72, 73],\n",
            "        [ 0,  0,  0,  0,  0,  0,  0,  0,  0,  0,  0,  0,  0,  0,  0,  0,  0,  0,\n",
            "          0,  0,  6, 42, 43, 44, 34, 45, 46, 26, 47],\n",
            "        [ 0,  0,  0,  0,  0,  0,  0,  0,  0,  0,  0,  0,  0,  0,  0,  0,  0,  0,\n",
            "          0,  0,  0,  0,  0,  0, 30, 31, 32, 23, 33],\n",
            "        [ 0,  0,  0,  0,  0,  0,  0,  0,  0,  0,  0,  0,  0,  0,  0,  0,  0,  0,\n",
            "          0,  0,  0,  0,  0, 67, 58, 43, 68,  8, 69],\n",
            "        [ 0,  0,  0,  0,  0,  0,  0,  0,  0,  0,  0,  0,  0,  0,  0,  0,  0,  0,\n",
            "          0,  0,  0,  0,  0,  0,  0,  0,  0,  6,  7],\n",
            "        [ 0,  0,  0,  0,  0,  0,  0,  0,  0,  0,  0,  0,  0,  0,  0,  0,  0,  0,\n",
            "          0,  0,  0,  0,  8, 16,  9, 10, 11,  8, 13],\n",
            "        [ 0,  0,  0,  0,  0,  0,  0,  0,  0,  0,  0,  0,  0,  0,  0,  0,  0,  0,\n",
            "          0,  0,  0,  0,  0,  0,  0,  8, 16,  9, 10],\n",
            "        [ 0,  0,  0,  0,  0,  0, 50, 37, 51, 52, 53, 30, 54, 37, 55, 56, 42, 57,\n",
            "         44, 34, 46, 57, 58, 59, 60, 52, 61, 23, 62],\n",
            "        [ 0,  0,  0,  0,  0,  0,  0,  0,  0,  0,  0,  0,  0,  0,  0,  0,  0,  0,\n",
            "          0,  0,  0,  0,  6, 42, 43, 44, 34, 45, 46],\n",
            "        [ 0,  0,  0,  0,  0,  0,  0,  0,  0,  0,  0,  0,  0,  0,  0,  0,  0,  0,\n",
            "          0,  0,  0,  0,  0,  6,  7,  8,  9, 10, 11],\n",
            "        [ 0,  0,  0,  0,  0,  0,  0,  0,  0,  0,  0,  0,  0,  0,  0,  0,  0,  0,\n",
            "          0,  0,  0,  0,  0,  0,  0,  6, 42, 43, 44],\n",
            "        [ 0,  0, 50, 37, 51, 52, 53, 30, 54, 37, 55, 56, 42, 57, 44, 34, 46, 57,\n",
            "         58, 59, 60, 52, 61, 23, 62,  8, 49, 63, 64],\n",
            "        [ 0,  0,  0,  0,  0,  0,  0,  0,  0,  0,  0,  0,  0,  0,  0,  0,  0,  0,\n",
            "          0,  0,  0,  0, 36, 37, 33, 23, 31, 32, 21],\n",
            "        [ 0,  0,  0,  0,  0,  0,  0,  0,  0, 50, 37, 51, 52, 53, 30, 54, 37, 55,\n",
            "         56, 42, 57, 44, 34, 46, 57, 58, 59, 60, 52],\n",
            "        [ 0,  0,  0,  0,  0,  0,  0,  0,  0,  0,  0,  0,  0,  0,  0,  0,  0,  0,\n",
            "          0,  0,  0,  0,  0,  6, 42, 43, 44, 34, 45],\n",
            "        [ 0,  0,  0,  0,  0,  0,  0,  0,  0,  0,  0,  0,  8, 16,  9, 10, 11,  8,\n",
            "         13,  9,  7, 17, 18, 19, 20,  8, 10, 11, 21],\n",
            "        [ 0,  0,  0,  0,  0,  0,  0,  0,  0,  0,  0,  0,  0,  0,  0,  8, 16,  9,\n",
            "         10, 11,  8, 13,  9,  7, 17, 18, 19, 20,  8],\n",
            "        [ 0,  0,  0,  0,  0,  0,  0,  0,  0,  0,  0,  0,  0,  0,  0,  0,  0,  0,\n",
            "          0,  0,  0,  0,  0,  0,  0,  0, 30, 31, 32],\n",
            "        [ 0,  0,  0,  0,  0,  0,  0,  0,  0,  0,  0,  0,  0,  0,  0,  0,  0,  0,\n",
            "          0,  0,  0,  8, 16, 24, 25,  8,  9,  7,  1],\n",
            "        [ 0,  0,  0,  0,  0,  0,  0,  0,  0,  0,  0,  8, 16,  9, 10, 11,  8, 13,\n",
            "          9,  7, 17, 18, 19, 20,  8, 10, 11, 21, 13],\n",
            "        [ 0,  0,  0,  0,  0,  0,  0,  0,  0,  0,  0,  0,  0, 57, 47, 68,  8, 69,\n",
            "         70, 71, 65,  9, 72, 73, 57, 74, 11,  8,  9],\n",
            "        [ 0,  0,  0,  0,  0,  0,  0,  0,  0,  0,  0,  0,  0,  0,  0,  0,  0,  0,\n",
            "          0,  0,  0,  6, 42, 43, 44, 34, 45, 46, 26],\n",
            "        [ 0,  0,  0,  0,  0,  0,  0,  0,  0,  0,  0,  0,  0,  0,  0,  0,  0,  0,\n",
            "          0,  0,  0,  0,  0,  0, 67, 58, 43, 68,  8],\n",
            "        [ 0,  0,  0,  0,  0,  0,  0,  0,  0,  0,  0,  0,  0,  0,  0,  0,  0,  0,\n",
            "          0,  0,  0,  0,  0, 50, 37, 51, 52, 53, 30],\n",
            "        [ 0,  0,  0,  0,  0,  0,  0,  0,  0,  0,  0,  0,  0,  0,  0,  0,  0,  0,\n",
            "          0,  0,  0,  0,  0,  0,  0,  0,  0, 57, 47]]) tensor([ 8, 33, 43, 25, 30, 25, 47, 57, 43, 34, 70,  8,  9, 11,  8, 26,  2, 34,\n",
            "        65, 30, 61, 46, 13, 10, 23, 27, 22, 29, 47, 69, 54, 68])\n",
            "tensor([[ 0,  0,  0,  0,  0,  0,  0,  0,  0,  0,  0,  0,  0,  0,  0,  0,  0,  0,\n",
            "          0,  0,  0,  0,  0,  0,  0,  0,  0,  1,  2],\n",
            "        [ 0,  0,  0,  0,  0,  0,  0,  0,  0,  0,  0,  0,  0,  0,  0,  0,  0,  8,\n",
            "         16,  9, 10, 11,  8, 13,  9,  7, 17, 18, 19],\n",
            "        [ 0,  0,  0,  0,  0,  0,  0,  0,  0,  0,  0,  0,  0,  0,  0,  0,  0,  0,\n",
            "          0,  0,  0,  0,  0,  0,  0,  6,  7,  8, 16],\n",
            "        [ 0,  0,  0,  0,  0,  0,  0,  0,  0,  0,  0,  0,  0,  0,  0,  0,  0,  0,\n",
            "          0,  0,  0,  0, 67, 58, 43, 68,  8, 69, 70],\n",
            "        [ 0,  0,  0,  0,  0,  0,  0,  0,  0,  0,  0,  0,  0,  0,  0,  0,  0,  0,\n",
            "          0,  0,  0,  0,  0,  0,  0,  0,  0,  6, 42],\n",
            "        [ 0,  0,  0,  0,  0,  0,  0,  0,  0,  8, 16,  9, 10, 11,  8, 13,  9,  7,\n",
            "         17, 18, 19, 20,  8, 10, 11, 21, 13, 22, 23],\n",
            "        [ 0,  0,  0,  0,  0,  0,  0,  0,  0,  0,  0,  0,  0,  0,  0,  0,  0,  6,\n",
            "          7,  8,  9, 10, 11,  2,  3,  4,  5, 12, 13],\n",
            "        [ 0,  0,  0,  0,  0,  0,  0,  0,  0,  0,  0,  0,  0,  0,  0,  0,  0,  0,\n",
            "          0,  0,  0,  0,  0,  0,  8, 16,  9, 10, 11],\n",
            "        [ 0,  0,  0,  0,  0,  0,  0,  0,  0,  0,  0,  0,  0,  0,  6, 42, 43, 44,\n",
            "         34, 45, 46, 26, 47, 43, 48, 34, 49, 25,  8],\n",
            "        [ 0,  0,  0,  0,  0,  0,  0,  0,  0,  0,  0,  0,  0,  0,  0,  0,  8, 16,\n",
            "          9, 10, 11,  8, 13,  9,  7, 17, 18, 19, 20],\n",
            "        [ 0, 50, 37, 51, 52, 53, 30, 54, 37, 55, 56, 42, 57, 44, 34, 46, 57, 58,\n",
            "         59, 60, 52, 61, 23, 62,  8, 49, 63, 64, 65],\n",
            "        [ 0,  0,  0,  0,  0,  0,  0,  0,  0,  0,  0,  0,  0,  0,  0,  0,  0,  0,\n",
            "          0,  0,  0,  0,  0,  0, 57, 47, 68,  8, 69],\n",
            "        [ 0,  0,  0,  0,  0,  0,  0,  0,  0,  0,  0,  0,  0,  0,  0,  0,  0,  0,\n",
            "          0,  0,  0,  0,  0,  0,  0,  0,  0,  0, 67],\n",
            "        [ 0,  0,  0,  0,  0,  0,  0,  0,  0,  0,  0,  0,  0,  0,  0,  0,  0,  0,\n",
            "         36, 37, 33, 23, 31, 32, 21, 30, 38, 34, 35],\n",
            "        [ 0,  0,  0,  0,  0,  0,  0,  0,  0,  0,  0,  0,  0,  0,  0,  0,  0,  0,\n",
            "          0, 50, 37, 51, 52, 53, 30, 54, 37, 55, 56],\n",
            "        [ 0,  0,  0,  0,  0,  0,  0,  0,  0,  0,  0,  0,  0,  0,  0,  0,  0,  0,\n",
            "          0,  0,  0,  0,  0,  0,  6,  7,  8,  9, 10],\n",
            "        [ 0,  0,  0,  0,  0,  0,  0,  0,  0,  0,  0,  0,  0,  0,  0,  0,  6,  7,\n",
            "          8,  9, 10, 11,  2,  3,  4,  5, 12, 13, 14],\n",
            "        [ 0,  0,  0,  0,  0,  0,  0,  0,  0,  0,  0,  0,  0,  0,  0,  6, 42, 43,\n",
            "         44, 34, 45, 46, 26, 47, 43, 48, 34, 49, 25],\n",
            "        [ 0,  0,  0,  0,  0,  0,  0,  0,  0,  0,  0,  0,  0,  0,  0,  0,  6, 42,\n",
            "         43, 44, 34, 45, 46, 26, 47, 43, 48, 34, 49],\n",
            "        [ 0,  0,  0,  0,  0,  0,  0,  0,  0,  0,  0,  0,  0,  0,  0,  0,  0,  0,\n",
            "          0,  0,  0,  0,  0,  0,  0,  0,  1,  2,  3],\n",
            "        [ 0,  0,  0,  0,  0,  0,  0,  0,  0,  0,  0,  0,  0,  0,  0,  0,  0,  0,\n",
            "          0,  0,  0,  0,  0,  0,  0,  0,  6,  7,  8],\n",
            "        [ 0,  0,  0,  0,  0,  0,  0,  0,  0,  0,  0,  0,  0,  0,  0,  0,  0, 30,\n",
            "         31, 32, 23, 33, 34, 35, 25,  8, 13, 14,  9],\n",
            "        [ 0,  0,  0,  0,  0,  0,  0,  0,  0,  0,  0,  0,  0,  0,  0,  0,  0,  0,\n",
            "          0,  0,  0,  0, 50, 37, 51, 52, 53, 30, 54],\n",
            "        [ 0,  0,  0,  0,  0,  0,  0, 50, 37, 51, 52, 53, 30, 54, 37, 55, 56, 42,\n",
            "         57, 44, 34, 46, 57, 58, 59, 60, 52, 61, 23],\n",
            "        [ 0,  0,  0,  0,  0,  0,  0,  0,  0,  0,  0,  0,  0,  0,  0,  0,  0,  0,\n",
            "          0,  0,  0, 57, 47, 68,  8, 69, 70, 71, 65],\n",
            "        [ 0,  0,  0,  0,  0,  0,  0,  0,  0,  0,  0,  0,  0,  0,  0,  0,  0,  0,\n",
            "          0,  0,  0,  0,  0, 36, 37, 33, 23, 31, 32],\n",
            "        [ 0,  0,  0,  0,  0,  0,  0,  0,  0,  0,  0,  0,  0,  0,  0,  0,  0,  0,\n",
            "          0,  0,  0,  0,  0,  0,  0, 50, 37, 51, 52],\n",
            "        [ 0,  0,  0,  0,  0,  0,  0,  0,  0,  0,  0,  0,  0,  0,  0,  0,  0,  0,\n",
            "          6,  7,  8,  9, 10, 11,  2,  3,  4,  5, 12],\n",
            "        [ 0,  0,  0,  0,  0,  0,  0,  0,  0,  0,  0,  0,  0,  0,  0,  0,  0,  0,\n",
            "          0,  0,  0,  0,  0,  0,  0,  0,  0,  0,  6],\n",
            "        [ 0,  0,  0,  0,  0,  0,  0,  0,  0,  0,  0,  0,  0, 36, 37, 33, 23, 31,\n",
            "         32, 21, 30, 38, 34, 35, 25, 19,  5, 39, 40],\n",
            "        [ 0,  0,  0,  0,  0,  0,  0,  0,  0,  0,  0,  0,  0,  0,  0,  0,  0,  0,\n",
            "          0,  0,  0,  0,  6,  7,  8, 16, 24, 25,  8],\n",
            "        [ 0,  0,  0,  0,  0,  0,  0,  0,  0,  0,  0,  0,  0,  0,  0,  0,  0,  0,\n",
            "          0,  0,  0,  0,  0,  0,  0,  8, 16, 24, 25]]) tensor([ 3, 20, 24, 26, 43, 13, 14,  8, 46,  8, 66, 70, 58, 25, 42, 11, 15,  8,\n",
            "        25,  4, 16, 26, 37, 62,  9, 21, 53, 13, 42, 41,  9,  8])\n",
            "tensor([[ 0,  0,  0,  0,  0,  0,  0,  0,  0,  0,  0,  0,  0,  8, 16,  9, 10, 11,\n",
            "          8, 13,  9,  7, 17, 18, 19, 20,  8, 10, 11],\n",
            "        [ 0,  0,  0,  0,  0,  0,  0,  0,  0,  0,  0,  0,  0,  0,  0,  0, 57, 47,\n",
            "         68,  8, 69, 70, 71, 65,  9, 72, 73, 57, 74],\n",
            "        [ 0,  0,  0,  0,  0,  0,  0,  0,  0,  0,  0,  0,  0,  0,  0,  0,  0,  0,\n",
            "          0,  0,  0,  0,  0,  0,  0,  0, 36, 37, 33],\n",
            "        [ 0,  0,  0,  0,  0,  0,  0,  0,  0,  0,  0,  0,  0,  0,  0,  0,  0,  0,\n",
            "          0,  0,  0,  0,  0,  0, 36, 37, 33, 23, 31],\n",
            "        [ 0,  0,  0,  0,  0,  0,  0,  0,  0,  0,  0,  0,  0,  0,  0,  0,  0,  0,\n",
            "          0,  0,  0,  0,  0,  0,  0,  0, 57, 47, 68],\n",
            "        [ 0,  0,  0,  0,  0,  0,  0,  0,  0,  0,  0,  0,  0,  0,  0,  0,  0,  0,\n",
            "          0,  0,  0,  0,  0,  0,  0,  1,  2,  3,  4],\n",
            "        [ 0,  0,  0,  0,  0,  0,  0,  0,  0,  0,  0,  0,  0,  0,  0,  0,  0,  0,\n",
            "          0,  0,  0,  0,  0,  0,  0,  0, 67, 58, 43],\n",
            "        [ 0,  0,  0,  0,  0,  0,  0,  0,  0,  0,  0,  0,  0,  0,  0,  0,  0,  0,\n",
            "          0,  0,  0,  0,  8, 16, 24, 25,  8,  9,  7],\n",
            "        [ 0,  0,  0,  0,  0,  0,  0,  0,  0,  0,  0,  0,  0,  0,  0,  0,  0,  0,\n",
            "          0,  0,  0,  6,  7,  8, 16, 24, 25,  8,  9],\n",
            "        [ 0,  0,  0,  0,  0,  0,  0,  0,  0,  0,  0,  0,  0,  0,  0,  0,  0,  0,\n",
            "          0,  0,  0,  0,  0,  0,  0,  0,  0,  0, 50],\n",
            "        [ 0,  0,  0,  0,  0,  0,  0,  0,  0,  0,  0,  0,  0,  0,  0,  0,  0,  0,\n",
            "          0,  6, 42, 43, 44, 34, 45, 46, 26, 47, 43],\n",
            "        [ 0,  0,  0,  0,  0,  0,  0,  0,  0,  0,  0,  0,  0,  0,  0, 50, 37, 51,\n",
            "         52, 53, 30, 54, 37, 55, 56, 42, 57, 44, 34],\n",
            "        [ 0,  0,  0,  0,  0,  0,  0,  0,  0,  0,  0,  0,  0,  0,  0,  0,  0,  0,\n",
            "          0,  0,  0,  0,  0,  0,  0,  0,  0,  0,  6],\n",
            "        [ 0,  0,  0,  0,  0,  0,  0,  0,  0,  0,  0,  0,  0,  0,  0,  0,  0,  0,\n",
            "          0,  0, 36, 37, 33, 23, 31, 32, 21, 30, 38],\n",
            "        [ 0,  0,  0,  0,  0,  0,  0,  0, 50, 37, 51, 52, 53, 30, 54, 37, 55, 56,\n",
            "         42, 57, 44, 34, 46, 57, 58, 59, 60, 52, 61],\n",
            "        [ 0,  0,  0,  0,  0,  0,  0,  0,  0,  0,  0,  0,  0,  0,  0,  0,  0,  0,\n",
            "          0,  0,  0, 50, 37, 51, 52, 53, 30, 54, 37],\n",
            "        [ 0,  0,  0,  0,  0,  0,  0,  0,  0,  0,  0,  0,  0,  0,  0,  0,  0,  0,\n",
            "          8, 16,  9, 10, 11,  8, 13,  9,  7, 17, 18],\n",
            "        [ 0,  0,  0,  0,  0,  0,  0,  0,  0,  0,  0,  0,  0,  0,  0,  0,  0,  0,\n",
            "          0,  8, 16, 24, 25,  8,  9,  7,  1, 27, 28],\n",
            "        [ 0,  0,  0,  0,  0,  0,  0,  0,  0,  0,  0,  0,  0,  0,  0,  0,  0,  0,\n",
            "          0,  0,  0, 30, 31, 32, 23, 33, 34, 35, 25],\n",
            "        [ 0,  0,  0,  0,  0,  0,  0,  0,  0,  0,  0,  0,  0,  0,  0,  0,  0,  0,\n",
            "          0,  0,  0,  0,  0,  0,  0,  0,  0,  0,  8],\n",
            "        [ 0,  0,  0,  0,  0,  0,  0,  0,  0,  0,  0,  0,  0,  0,  0,  0,  0,  0,\n",
            "          0,  0,  0,  0,  0,  0,  0,  0,  0,  8, 16],\n",
            "        [ 0,  0,  0,  0,  0,  0,  0,  0,  0,  0,  0,  0,  0,  0,  0,  0,  0,  0,\n",
            "          0,  0,  0,  0,  0,  0,  0,  0,  0,  8, 16],\n",
            "        [ 0,  0,  0,  0,  0,  0,  0,  0,  0,  0,  0,  0,  0,  6, 42, 43, 44, 34,\n",
            "         45, 46, 26, 47, 43, 48, 34, 49, 25,  8, 46],\n",
            "        [ 0,  0,  0,  0,  0,  0,  0,  0,  0,  0,  0,  0,  0,  0, 50, 37, 51, 52,\n",
            "         53, 30, 54, 37, 55, 56, 42, 57, 44, 34, 46],\n",
            "        [ 0,  0,  0,  0,  0,  0,  0,  0,  0,  0,  0,  0,  0,  0,  0,  0,  0,  0,\n",
            "          0,  0,  0,  6,  7,  8,  9, 10, 11,  2,  3],\n",
            "        [ 0,  0,  0,  0,  0,  0,  0,  0,  0,  0,  0,  0, 36, 37, 33, 23, 31, 32,\n",
            "         21, 30, 38, 34, 35, 25, 19,  5, 39, 40, 41],\n",
            "        [ 0,  0,  0,  0,  0,  0,  0,  0,  0,  0,  0,  0,  0,  0,  0,  0,  0,  6,\n",
            "         42, 43, 44, 34, 45, 46, 26, 47, 43, 48, 34],\n",
            "        [ 0,  0,  0,  0,  0,  0,  0,  0,  0,  0,  0,  0,  0,  0,  0,  0,  0,  0,\n",
            "          0,  0,  0, 36, 37, 33, 23, 31, 32, 21, 30],\n",
            "        [ 0,  0,  0,  0,  0,  0,  0,  0,  0,  0,  0,  0,  0,  0,  8, 16,  9, 10,\n",
            "         11,  8, 13,  9,  7, 17, 18, 19, 20,  8, 10],\n",
            "        [ 0,  0,  0,  0,  0,  0,  0,  0,  0,  0,  0,  0,  0,  0,  0,  0,  0,  0,\n",
            "          0,  0,  0,  0,  0,  0,  0, 57, 47, 68,  8],\n",
            "        [ 0,  0,  0,  0,  0,  0,  0,  0,  0,  0,  0,  0,  0,  0,  0,  0,  0,  0,\n",
            "          0,  0,  0,  0,  0,  8, 16,  9, 10, 11,  8],\n",
            "        [ 0,  0,  0,  0,  0,  0,  0,  0,  0,  0,  0,  0,  0,  0,  0,  0,  0,  0,\n",
            "          0,  0,  0,  0, 57, 47, 68,  8, 69, 70, 71]]) tensor([21, 11, 23, 32,  8,  5, 68,  1, 26, 37, 48, 46,  7, 34, 23, 55, 19, 29,\n",
            "         8, 16, 24,  9, 26, 57,  4, 29, 49, 38, 11, 69, 13, 65])\n",
            "tensor([[ 0,  0,  0,  0,  0,  0,  0,  0,  0,  0,  0,  0,  0,  0,  0,  0,  0,  0,\n",
            "          0,  0,  0,  0,  0,  0,  0,  0,  0,  0, 36],\n",
            "        [ 0,  0,  0,  0,  0,  0,  0,  0,  0,  0,  0,  0,  0,  0,  0,  0,  0,  0,\n",
            "          0,  0,  0,  0,  0,  0,  6, 42, 43, 44, 34],\n",
            "        [ 0,  0,  0, 50, 37, 51, 52, 53, 30, 54, 37, 55, 56, 42, 57, 44, 34, 46,\n",
            "         57, 58, 59, 60, 52, 61, 23, 62,  8, 49, 63],\n",
            "        [ 0,  0,  0,  0,  0,  0,  0,  0,  0,  0,  0,  0,  0,  0,  0,  0,  0,  0,\n",
            "          0,  0,  8, 16,  9, 10, 11,  8, 13,  9,  7],\n",
            "        [ 0,  0,  0,  0,  0,  0,  0,  0,  0,  0,  0,  0,  0,  0,  0,  0,  0,  0,\n",
            "          0,  0,  0,  0,  0,  8, 16, 24, 25,  8,  9],\n",
            "        [ 0,  0,  0,  0,  0,  0,  0,  0,  0,  0,  0,  0,  0,  0,  0,  0,  0,  0,\n",
            "          0,  0, 57, 47, 68,  8, 69, 70, 71, 65,  9],\n",
            "        [ 0,  0,  0,  0,  0,  0,  0,  0,  0,  0,  0,  0,  0,  0,  0,  0,  0,  0,\n",
            "          0,  0,  0,  0,  0,  0,  0,  6,  7,  8,  9],\n",
            "        [ 0,  0,  0,  0,  0,  0,  0,  0,  0,  0,  0,  0,  0,  0,  0,  0,  0,  0,\n",
            "          0,  0, 30, 31, 32, 23, 33, 34, 35, 25,  8],\n",
            "        [ 0,  0,  0,  0, 50, 37, 51, 52, 53, 30, 54, 37, 55, 56, 42, 57, 44, 34,\n",
            "         46, 57, 58, 59, 60, 52, 61, 23, 62,  8, 49],\n",
            "        [ 0,  0,  0,  0,  0,  0,  0,  0,  0,  0,  0,  0,  0,  0,  0,  0,  0,  0,\n",
            "          0,  0,  0,  8, 16,  9, 10, 11,  8, 13,  9],\n",
            "        [ 0,  0,  0,  0,  0,  0,  0,  0,  0,  0,  0,  0,  0, 50, 37, 51, 52, 53,\n",
            "         30, 54, 37, 55, 56, 42, 57, 44, 34, 46, 57],\n",
            "        [ 0,  0,  0,  0,  0,  0,  0,  0,  0,  0,  0,  0, 50, 37, 51, 52, 53, 30,\n",
            "         54, 37, 55, 56, 42, 57, 44, 34, 46, 57, 58],\n",
            "        [ 0,  0,  0,  0,  0,  0,  0,  0,  0,  0,  0,  0,  0,  0,  0,  0,  0,  0,\n",
            "          0,  0,  0,  0,  0,  0,  0, 67, 58, 43, 68],\n",
            "        [ 0,  0,  0,  0,  0,  0,  0,  0,  0,  0,  0,  0,  0,  0,  0,  0,  0,  0,\n",
            "          0,  0,  0,  0,  6,  7,  8,  9, 10, 11,  2],\n",
            "        [ 0,  0,  0,  0,  0,  0,  0,  0,  0,  0,  0,  0,  0,  0,  0,  0,  0,  0,\n",
            "          0, 36, 37, 33, 23, 31, 32, 21, 30, 38, 34],\n",
            "        [ 0,  0,  0,  0,  0,  0,  0,  0,  0,  0,  0,  0,  0,  0,  0,  0,  0,  0,\n",
            "          0,  0,  0,  0,  0,  0,  0,  0,  6,  7,  8],\n",
            "        [ 0,  0,  0,  0,  0,  0,  0,  0,  0,  0,  0,  0,  0,  0,  0,  0, 50, 37,\n",
            "         51, 52, 53, 30, 54, 37, 55, 56, 42, 57, 44],\n",
            "        [ 0,  0,  0,  0,  0,  0,  0,  0,  0,  0,  0, 50, 37, 51, 52, 53, 30, 54,\n",
            "         37, 55, 56, 42, 57, 44, 34, 46, 57, 58, 59],\n",
            "        [ 0,  0,  0,  0,  0,  0,  0,  0,  0,  0,  0,  0,  0,  0,  0,  0,  0,  0,\n",
            "          0,  0,  8, 16, 24, 25,  8,  9,  7,  1, 27],\n",
            "        [ 0,  0,  0,  0,  0,  0,  0,  0,  0,  0,  0,  0,  0,  0,  0,  0,  0,  0,\n",
            "          6, 42, 43, 44, 34, 45, 46, 26, 47, 43, 48],\n",
            "        [ 0,  0,  0,  0,  0,  0,  0,  0,  0,  0,  0,  0,  0,  0,  0,  0,  0, 57,\n",
            "         47, 68,  8, 69, 70, 71, 65,  9, 72, 73, 57],\n",
            "        [ 0,  0,  0,  0,  0,  0,  0,  0,  0,  0,  0,  0,  0,  0, 57, 47, 68,  8,\n",
            "         69, 70, 71, 65,  9, 72, 73, 57, 74, 11,  8],\n",
            "        [ 0,  0,  0,  0,  0,  0,  0,  0,  0,  0,  0,  0,  0,  0,  0,  0,  0,  0,\n",
            "          0, 57, 47, 68,  8, 69, 70, 71, 65,  9, 72],\n",
            "        [ 0,  0,  0,  0,  0,  0,  0,  0,  0,  0,  0,  0,  0,  0,  0,  0,  0,  0,\n",
            "          0,  0,  0,  0,  0,  0,  0,  0,  8, 16,  9],\n",
            "        [ 0,  0,  0,  0,  0,  0,  0,  0,  0,  0,  0,  0,  0,  0,  0,  0,  0,  0,\n",
            "          0,  0,  0,  0,  0,  0,  0,  0,  0,  0, 30]]) tensor([37, 45, 64, 17,  7, 72, 10, 13, 63,  7, 58, 59,  8,  3, 35,  9, 34, 60,\n",
            "        28, 34, 74,  9, 73, 10, 31])\n"
          ]
        }
      ]
    },
    {
      "cell_type": "code",
      "source": [
        "X.shape"
      ],
      "metadata": {
        "colab": {
          "base_uri": "https://localhost:8080/"
        },
        "id": "dbWGo2CZskm2",
        "outputId": "bd1c64fb-49c0-4597-c17a-f039c41c5b12"
      },
      "execution_count": null,
      "outputs": [
        {
          "output_type": "execute_result",
          "data": {
            "text/plain": [
              "torch.Size([153, 29])"
            ]
          },
          "metadata": {},
          "execution_count": 34
        }
      ]
    },
    {
      "cell_type": "code",
      "source": [
        "y.shape"
      ],
      "metadata": {
        "colab": {
          "base_uri": "https://localhost:8080/"
        },
        "id": "xYyRBytStFUQ",
        "outputId": "1e4baaf1-5405-4b9f-f112-f880bdb90389"
      },
      "execution_count": null,
      "outputs": [
        {
          "output_type": "execute_result",
          "data": {
            "text/plain": [
              "torch.Size([153])"
            ]
          },
          "metadata": {},
          "execution_count": 35
        }
      ]
    },
    {
      "cell_type": "code",
      "source": [
        "dataset[0]"
      ],
      "metadata": {
        "colab": {
          "base_uri": "https://localhost:8080/"
        },
        "id": "TDDgwKNvtHh-",
        "outputId": "7220c786-13c8-4f89-c7f3-347c0766e43c"
      },
      "execution_count": null,
      "outputs": [
        {
          "output_type": "execute_result",
          "data": {
            "text/plain": [
              "(tensor([0, 0, 0, 0, 0, 0, 0, 0, 0, 0, 0, 0, 0, 0, 0, 0, 0, 0, 0, 0, 0, 0, 0, 0,\n",
              "         0, 0, 0, 0, 1]),\n",
              " tensor(2))"
            ]
          },
          "metadata": {},
          "execution_count": 37
        }
      ]
    },
    {
      "cell_type": "code",
      "source": [
        "class LSTMModel(nn.Module):\n",
        "  def __init__(self,vocab_size):\n",
        "    super().__init__()\n",
        "    self.embedding=nn.Embedding(vocab_size,100)\n",
        "    self.lstm=nn.LSTM(100,150,batch_first=True)\n",
        "    self.fc=nn.Linear(150,vocab_size)\n",
        "\n",
        "  def forward(self, x):\n",
        "    embedded = self.embedding(x)\n",
        "    intermediate_hidden_states, (final_hidden_state, final_cell_state) = self.lstm(embedded)\n",
        "    output = self.fc(final_hidden_state.squeeze(0))\n",
        "    return output"
      ],
      "metadata": {
        "id": "NLrX2mKLtPUR"
      },
      "execution_count": null,
      "outputs": []
    },
    {
      "cell_type": "code",
      "source": [
        "model=LSTMModel(len(vocab))"
      ],
      "metadata": {
        "id": "EeXasTtqwf1X"
      },
      "execution_count": null,
      "outputs": []
    },
    {
      "cell_type": "code",
      "source": [
        "device = torch.device(\"cuda\" if torch.cuda.is_available() else \"cpu\")"
      ],
      "metadata": {
        "id": "EKsT39qewvpb"
      },
      "execution_count": null,
      "outputs": []
    },
    {
      "cell_type": "code",
      "source": [
        "model.to(device)"
      ],
      "metadata": {
        "colab": {
          "base_uri": "https://localhost:8080/"
        },
        "id": "SocHljQywy16",
        "outputId": "e1be2a82-902a-41c3-91ee-cadfb805d3b0"
      },
      "execution_count": null,
      "outputs": [
        {
          "output_type": "execute_result",
          "data": {
            "text/plain": [
              "LSTMModel(\n",
              "  (embedding): Embedding(75, 100)\n",
              "  (lstm): LSTM(100, 150, batch_first=True)\n",
              "  (fc): Linear(in_features=150, out_features=75, bias=True)\n",
              ")"
            ]
          },
          "metadata": {},
          "execution_count": 57
        }
      ]
    },
    {
      "cell_type": "code",
      "source": [
        "epochs = 50\n",
        "learning_rate = 0.001\n",
        "\n",
        "criterion = nn.CrossEntropyLoss()\n",
        "\n",
        "optimizer = torch.optim.Adam(model.parameters(), lr=learning_rate)"
      ],
      "metadata": {
        "id": "Gig0wKA5xS5x"
      },
      "execution_count": null,
      "outputs": []
    },
    {
      "cell_type": "code",
      "source": [
        "# training loop\n",
        "\n",
        "for epoch in range(epochs):\n",
        "  total_loss = 0\n",
        "\n",
        "  for batch_x, batch_y in dataloader:\n",
        "\n",
        "    batch_x, batch_y = batch_x.to(device), batch_y.to(device)\n",
        "\n",
        "    optimizer.zero_grad()\n",
        "\n",
        "    output = model(batch_x)\n",
        "\n",
        "    loss = criterion(output, batch_y)\n",
        "\n",
        "    loss.backward()\n",
        "\n",
        "    optimizer.step()\n",
        "\n",
        "    total_loss = total_loss + loss.item()\n",
        "\n",
        "  print(f\"Epoch: {epoch + 1}, Loss: {total_loss:.4f}\")"
      ],
      "metadata": {
        "colab": {
          "base_uri": "https://localhost:8080/"
        },
        "id": "XR89_iMXxdeE",
        "outputId": "5b3a68b6-a536-4c91-da6c-ef3d7da0ccb0"
      },
      "execution_count": null,
      "outputs": [
        {
          "output_type": "stream",
          "name": "stdout",
          "text": [
            "Epoch: 1, Loss: 21.5686\n",
            "Epoch: 2, Loss: 20.8926\n",
            "Epoch: 3, Loss: 20.2456\n",
            "Epoch: 4, Loss: 19.4595\n",
            "Epoch: 5, Loss: 18.4883\n",
            "Epoch: 6, Loss: 17.4044\n",
            "Epoch: 7, Loss: 16.3934\n",
            "Epoch: 8, Loss: 15.2340\n",
            "Epoch: 9, Loss: 14.1345\n",
            "Epoch: 10, Loss: 12.9762\n",
            "Epoch: 11, Loss: 11.8407\n",
            "Epoch: 12, Loss: 10.7640\n",
            "Epoch: 13, Loss: 9.7527\n",
            "Epoch: 14, Loss: 8.7648\n",
            "Epoch: 15, Loss: 7.8242\n",
            "Epoch: 16, Loss: 7.0226\n",
            "Epoch: 17, Loss: 6.2331\n",
            "Epoch: 18, Loss: 5.5649\n",
            "Epoch: 19, Loss: 4.9899\n",
            "Epoch: 20, Loss: 4.4126\n",
            "Epoch: 21, Loss: 3.9491\n",
            "Epoch: 22, Loss: 3.5410\n",
            "Epoch: 23, Loss: 3.1571\n",
            "Epoch: 24, Loss: 2.8732\n",
            "Epoch: 25, Loss: 2.6010\n",
            "Epoch: 26, Loss: 2.3334\n",
            "Epoch: 27, Loss: 2.1156\n",
            "Epoch: 28, Loss: 1.9214\n",
            "Epoch: 29, Loss: 1.7804\n",
            "Epoch: 30, Loss: 1.6338\n",
            "Epoch: 31, Loss: 1.5274\n",
            "Epoch: 32, Loss: 1.4120\n",
            "Epoch: 33, Loss: 1.3180\n",
            "Epoch: 34, Loss: 1.2252\n",
            "Epoch: 35, Loss: 1.1543\n",
            "Epoch: 36, Loss: 1.0854\n",
            "Epoch: 37, Loss: 1.0334\n",
            "Epoch: 38, Loss: 0.9764\n",
            "Epoch: 39, Loss: 0.9333\n",
            "Epoch: 40, Loss: 0.8930\n",
            "Epoch: 41, Loss: 0.8398\n",
            "Epoch: 42, Loss: 0.8022\n",
            "Epoch: 43, Loss: 0.7667\n",
            "Epoch: 44, Loss: 0.7388\n",
            "Epoch: 45, Loss: 0.7187\n",
            "Epoch: 46, Loss: 0.6823\n",
            "Epoch: 47, Loss: 0.6673\n",
            "Epoch: 48, Loss: 0.6343\n",
            "Epoch: 49, Loss: 0.6215\n",
            "Epoch: 50, Loss: 0.6135\n"
          ]
        }
      ]
    },
    {
      "cell_type": "code",
      "source": [
        "# prediction\n",
        "\n",
        "def prediction(model, vocab, text):\n",
        "\n",
        "  # tokenize\n",
        "  tokenized_text = word_tokenize(text.lower())\n",
        "\n",
        "  # text -> numerical indices\n",
        "  numerical_text = text_to_indices(tokenized_text, vocab)\n",
        "\n",
        "  # padding\n",
        "  padded_text = torch.tensor([0] * (30 - len(numerical_text)) + numerical_text, dtype=torch.long).unsqueeze(0)\n",
        "\n",
        "  # send to device\n",
        "  device = torch.device(\"cuda\" if torch.cuda.is_available() else \"cpu\")\n",
        "  padded_text = padded_text.to(device)\n",
        "\n",
        "  # send to model\n",
        "  output = model(padded_text)\n",
        "\n",
        "  # predicted index\n",
        "  value, index = torch.max(output, dim=1)\n",
        "\n",
        "  # merge with text\n",
        "  return text + \" \" + list(vocab.keys())[index]"
      ],
      "metadata": {
        "id": "RA-vxVEUzs5x"
      },
      "execution_count": null,
      "outputs": []
    },
    {
      "cell_type": "code",
      "source": [
        "prediction(model, vocab, \"About Data Science mentorship program ( dsmp\")"
      ],
      "metadata": {
        "colab": {
          "base_uri": "https://localhost:8080/",
          "height": 36
        },
        "id": "hEHbbTXQzyYJ",
        "outputId": "4e1453f4-ea04-48ea-caeb-e45b414b6a2c"
      },
      "execution_count": null,
      "outputs": [
        {
          "output_type": "execute_result",
          "data": {
            "text/plain": [
              "'About Data Science mentorship program ( dsmp 2.0'"
            ],
            "application/vnd.google.colaboratory.intrinsic+json": {
              "type": "string"
            }
          },
          "metadata": {},
          "execution_count": 72
        }
      ]
    },
    {
      "cell_type": "code",
      "source": [
        "import time\n",
        "\n",
        "num_tokens = 10\n",
        "input_text = \"hi how are\"\n",
        "\n",
        "for i in range(num_tokens):\n",
        "  output_text = prediction(model, vocab, input_text)\n",
        "  print(output_text)\n",
        "  input_text = output_text\n",
        "  time.sleep(0.5)\n"
      ],
      "metadata": {
        "colab": {
          "base_uri": "https://localhost:8080/"
        },
        "id": "mGWD8klxz8Nm",
        "outputId": "0bca7eb9-e357-438c-a0b3-1e2deaa23500"
      },
      "execution_count": null,
      "outputs": [
        {
          "output_type": "stream",
          "name": "stdout",
          "text": [
            "hi how are deep\n",
            "hi how are deep learning\n",
            "hi how are deep learning and\n",
            "hi how are deep learning and nlp\n",
            "hi how are deep learning and nlp a\n",
            "hi how are deep learning and nlp a part\n",
            "hi how are deep learning and nlp a part of\n",
            "hi how are deep learning and nlp a part of the\n",
            "hi how are deep learning and nlp a part of the dsmp\n",
            "hi how are deep learning and nlp a part of the dsmp 2.0\n"
          ]
        }
      ]
    },
    {
      "cell_type": "code",
      "source": [
        "dataloader1 = DataLoader(dataset, batch_size=32, shuffle=False)"
      ],
      "metadata": {
        "id": "9CjFqmwp0Cqs"
      },
      "execution_count": null,
      "outputs": []
    },
    {
      "cell_type": "code",
      "source": [
        "# Function to calculate accuracy\n",
        "def calculate_accuracy(model, dataloader, device):\n",
        "    model.eval()  # Set the model to evaluation mode\n",
        "    correct = 0\n",
        "    total = 0\n",
        "\n",
        "    with torch.no_grad():  # No need to compute gradients\n",
        "        for batch_x, batch_y in dataloader1:\n",
        "            batch_x, batch_y = batch_x.to(device), batch_y.to(device)\n",
        "\n",
        "            # Get model predictions\n",
        "            outputs = model(batch_x)\n",
        "\n",
        "            # Get the predicted word indices\n",
        "            _, predicted = torch.max(outputs, dim=1)\n",
        "\n",
        "            # Compare with actual labels\n",
        "            correct += (predicted == batch_y).sum().item()\n",
        "            total += batch_y.size(0)\n",
        "\n",
        "    accuracy = correct / total * 100\n",
        "    return accuracy\n",
        "\n",
        "# Compute accuracy\n",
        "accuracy = calculate_accuracy(model, dataloader, device)\n",
        "print(f\"Model Accuracy: {accuracy:.2f}%\")\n"
      ],
      "metadata": {
        "colab": {
          "base_uri": "https://localhost:8080/"
        },
        "id": "CMiiF6TK0EvE",
        "outputId": "544f5665-c85e-4f23-cc1f-faff89f2f7f5"
      },
      "execution_count": null,
      "outputs": [
        {
          "output_type": "stream",
          "name": "stdout",
          "text": [
            "Model Accuracy: 98.04%\n"
          ]
        }
      ]
    }
  ]
}